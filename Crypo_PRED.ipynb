{
 "cells": [
  {
   "cell_type": "code",
   "execution_count": 2,
   "id": "f8ce81ca-ebea-4183-9373-808d95e393d3",
   "metadata": {},
   "outputs": [],
   "source": [
    "# =============================================================================\n",
    "# Import Libraries\n",
    "# =============================================================================\n",
    "import requests                     # For making API calls to CoinMarketCap\n",
    "import pandas as pd                 # For data manipulation and analysis\n",
    "import numpy as np                  # For numerical operations\n",
    "import matplotlib.pyplot as plt     # For plotting graphs\n",
    "import datetime                     # For handling date and time information\n",
    "import tweepy                       # For accessing the Twitter API\n",
    "import nltk                         # For Natural Language Processing\n",
    "from nltk.sentiment.vader import SentimentIntensityAnalyzer  # VADER for sentiment analysis\n",
    "from sklearn.linear_model import LinearRegression           # For predictive modeling\n",
    "from sklearn.metrics import mean_absolute_error, r2_score      # For model evaluation"
   ]
  },
  {
   "cell_type": "code",
   "execution_count": null,
   "id": "496a270c-f717-488d-97b3-81a8ed70254e",
   "metadata": {},
   "outputs": [],
   "source": []
  }
 ],
 "metadata": {
  "kernelspec": {
   "display_name": "Python 3 (ipykernel)",
   "language": "python",
   "name": "python3"
  },
  "language_info": {
   "codemirror_mode": {
    "name": "ipython",
    "version": 3
   },
   "file_extension": ".py",
   "mimetype": "text/x-python",
   "name": "python",
   "nbconvert_exporter": "python",
   "pygments_lexer": "ipython3",
   "version": "3.11.5"
  }
 },
 "nbformat": 4,
 "nbformat_minor": 5
}
